{
 "cells": [
  {
   "cell_type": "code",
   "execution_count": 2,
   "metadata": {},
   "outputs": [],
   "source": [
    "from __future__ import print_function\n",
    "import pandas as pd\n",
    "import numpy as np\n",
    "import matplotlib.pyplot as plt\n",
    "import seaborn as sns\n",
    "from sklearn.metrics import classification_report\n",
    "from sklearn import metrics\n",
    "from sklearn import tree\n",
    "import warnings\n",
    "warnings.filterwarnings('ignore')"
   ]
  },
  {
   "cell_type": "code",
   "execution_count": 3,
   "metadata": {},
   "outputs": [],
   "source": [
    "df = pd.read_csv('Crop_recommendation.csv')"
   ]
  },
  {
   "cell_type": "code",
   "execution_count": 4,
   "metadata": {},
   "outputs": [
    {
     "data": {
      "text/html": [
       "<div>\n",
       "<style scoped>\n",
       "    .dataframe tbody tr th:only-of-type {\n",
       "        vertical-align: middle;\n",
       "    }\n",
       "\n",
       "    .dataframe tbody tr th {\n",
       "        vertical-align: top;\n",
       "    }\n",
       "\n",
       "    .dataframe thead th {\n",
       "        text-align: right;\n",
       "    }\n",
       "</style>\n",
       "<table border=\"1\" class=\"dataframe\">\n",
       "  <thead>\n",
       "    <tr style=\"text-align: right;\">\n",
       "      <th></th>\n",
       "      <th>N</th>\n",
       "      <th>P</th>\n",
       "      <th>K</th>\n",
       "      <th>temperature</th>\n",
       "      <th>humidity</th>\n",
       "      <th>ph</th>\n",
       "      <th>rainfall</th>\n",
       "      <th>label</th>\n",
       "    </tr>\n",
       "  </thead>\n",
       "  <tbody>\n",
       "    <tr>\n",
       "      <th>0</th>\n",
       "      <td>90</td>\n",
       "      <td>42</td>\n",
       "      <td>43</td>\n",
       "      <td>20.879744</td>\n",
       "      <td>82.002744</td>\n",
       "      <td>6.502985</td>\n",
       "      <td>202.935536</td>\n",
       "      <td>rice</td>\n",
       "    </tr>\n",
       "    <tr>\n",
       "      <th>1</th>\n",
       "      <td>85</td>\n",
       "      <td>58</td>\n",
       "      <td>41</td>\n",
       "      <td>21.770462</td>\n",
       "      <td>80.319644</td>\n",
       "      <td>7.038096</td>\n",
       "      <td>226.655537</td>\n",
       "      <td>rice</td>\n",
       "    </tr>\n",
       "    <tr>\n",
       "      <th>2</th>\n",
       "      <td>60</td>\n",
       "      <td>55</td>\n",
       "      <td>44</td>\n",
       "      <td>23.004459</td>\n",
       "      <td>82.320763</td>\n",
       "      <td>7.840207</td>\n",
       "      <td>263.964248</td>\n",
       "      <td>rice</td>\n",
       "    </tr>\n",
       "    <tr>\n",
       "      <th>3</th>\n",
       "      <td>74</td>\n",
       "      <td>35</td>\n",
       "      <td>40</td>\n",
       "      <td>26.491096</td>\n",
       "      <td>80.158363</td>\n",
       "      <td>6.980401</td>\n",
       "      <td>242.864034</td>\n",
       "      <td>rice</td>\n",
       "    </tr>\n",
       "    <tr>\n",
       "      <th>4</th>\n",
       "      <td>78</td>\n",
       "      <td>42</td>\n",
       "      <td>42</td>\n",
       "      <td>20.130175</td>\n",
       "      <td>81.604873</td>\n",
       "      <td>7.628473</td>\n",
       "      <td>262.717340</td>\n",
       "      <td>rice</td>\n",
       "    </tr>\n",
       "  </tbody>\n",
       "</table>\n",
       "</div>"
      ],
      "text/plain": [
       "    N   P   K  temperature   humidity        ph    rainfall label\n",
       "0  90  42  43    20.879744  82.002744  6.502985  202.935536  rice\n",
       "1  85  58  41    21.770462  80.319644  7.038096  226.655537  rice\n",
       "2  60  55  44    23.004459  82.320763  7.840207  263.964248  rice\n",
       "3  74  35  40    26.491096  80.158363  6.980401  242.864034  rice\n",
       "4  78  42  42    20.130175  81.604873  7.628473  262.717340  rice"
      ]
     },
     "execution_count": 4,
     "metadata": {},
     "output_type": "execute_result"
    }
   ],
   "source": [
    "df.head()"
   ]
  },
  {
   "cell_type": "code",
   "execution_count": 5,
   "metadata": {},
   "outputs": [
    {
     "data": {
      "text/plain": [
       "array(['rice', 'maize', 'chickpea', 'kidneybeans', 'pigeonpeas',\n",
       "       'mothbeans', 'mungbean', 'blackgram', 'lentil', 'pomegranate',\n",
       "       'banana', 'mango', 'grapes', 'watermelon', 'muskmelon', 'apple',\n",
       "       'orange', 'papaya', 'coconut', 'cotton', 'jute', 'coffee'],\n",
       "      dtype=object)"
      ]
     },
     "execution_count": 5,
     "metadata": {},
     "output_type": "execute_result"
    }
   ],
   "source": [
    "df['label'].unique()"
   ]
  },
  {
   "cell_type": "code",
   "execution_count": 6,
   "metadata": {},
   "outputs": [
    {
     "data": {
      "text/plain": [
       "label\n",
       "rice           100\n",
       "maize          100\n",
       "jute           100\n",
       "cotton         100\n",
       "coconut        100\n",
       "papaya         100\n",
       "orange         100\n",
       "apple          100\n",
       "muskmelon      100\n",
       "watermelon     100\n",
       "grapes         100\n",
       "mango          100\n",
       "banana         100\n",
       "pomegranate    100\n",
       "lentil         100\n",
       "blackgram      100\n",
       "mungbean       100\n",
       "mothbeans      100\n",
       "pigeonpeas     100\n",
       "kidneybeans    100\n",
       "chickpea       100\n",
       "coffee         100\n",
       "Name: count, dtype: int64"
      ]
     },
     "execution_count": 6,
     "metadata": {},
     "output_type": "execute_result"
    }
   ],
   "source": [
    "df['label'].value_counts()"
   ]
  },
  {
   "cell_type": "code",
   "execution_count": 7,
   "metadata": {},
   "outputs": [],
   "source": [
    "features = df[['N', 'P','K','temperature', 'humidity', 'ph', 'rainfall']]\n",
    "target = df['label']\n",
    "labels = df['label']"
   ]
  },
  {
   "cell_type": "code",
   "execution_count": 8,
   "metadata": {},
   "outputs": [],
   "source": [
    "acc=[]\n",
    "model=[]"
   ]
  },
  {
   "cell_type": "code",
   "execution_count": 37,
   "metadata": {},
   "outputs": [
    {
     "name": "stdout",
     "output_type": "stream",
     "text": [
      "        N   P   K  temperature   humidity        ph    rainfall\n",
      "2121   83  21  28    25.567483  60.492446  7.466901  190.225784\n",
      "960     1  27  36    23.985988  93.342366  5.684995  104.991282\n",
      "952    23   5  44    21.207254  94.263047  7.163005  107.566080\n",
      "1958  116  52  19    22.942767  75.371706  6.114526   67.080226\n",
      "681     6  37  17    28.086572  80.350059  6.760694   38.144768\n",
      "...   ...  ..  ..          ...        ...       ...         ...\n",
      "1684    7  17  10    10.164313  91.223210  6.465913  106.362551\n",
      "1477   86  18  45    28.965866  90.718329  6.566759   22.258381\n",
      "851     6  64  23    23.335652  67.404607  7.065264   36.186787\n",
      "370    37  56  25    22.055923  19.603793  5.774755  126.726537\n",
      "2010   89  53  44    24.886928  71.917115  7.319735  150.249867\n",
      "\n",
      "[440 rows x 7 columns] 2121         coffee\n",
      "960     pomegranate\n",
      "952     pomegranate\n",
      "1958         cotton\n",
      "681        mungbean\n",
      "           ...     \n",
      "1684         orange\n",
      "1477      muskmelon\n",
      "851          lentil\n",
      "370     kidneybeans\n",
      "2010           jute\n",
      "Name: label, Length: 440, dtype: object\n"
     ]
    }
   ],
   "source": [
    "from sklearn.model_selection import train_test_split\n",
    "Xtrain, Xtest, Ytrain, Ytest = train_test_split(features,target,test_size = 0.2,random_state=2)\n",
    "print(Xtest,Ytest)"
   ]
  },
  {
   "cell_type": "code",
   "execution_count": 10,
   "metadata": {},
   "outputs": [
    {
     "name": "stdout",
     "output_type": "stream",
     "text": [
      "Naive Bayes's Accuracy is:  0.990909090909091\n",
      "              precision    recall  f1-score   support\n",
      "\n",
      "       apple       1.00      1.00      1.00        13\n",
      "      banana       1.00      1.00      1.00        17\n",
      "   blackgram       1.00      1.00      1.00        16\n",
      "    chickpea       1.00      1.00      1.00        21\n",
      "     coconut       1.00      1.00      1.00        21\n",
      "      coffee       1.00      1.00      1.00        22\n",
      "      cotton       1.00      1.00      1.00        20\n",
      "      grapes       1.00      1.00      1.00        18\n",
      "        jute       0.88      1.00      0.93        28\n",
      " kidneybeans       1.00      1.00      1.00        14\n",
      "      lentil       1.00      1.00      1.00        23\n",
      "       maize       1.00      1.00      1.00        21\n",
      "       mango       1.00      1.00      1.00        26\n",
      "   mothbeans       1.00      1.00      1.00        19\n",
      "    mungbean       1.00      1.00      1.00        24\n",
      "   muskmelon       1.00      1.00      1.00        23\n",
      "      orange       1.00      1.00      1.00        29\n",
      "      papaya       1.00      1.00      1.00        19\n",
      "  pigeonpeas       1.00      1.00      1.00        18\n",
      " pomegranate       1.00      1.00      1.00        17\n",
      "        rice       1.00      0.75      0.86        16\n",
      "  watermelon       1.00      1.00      1.00        15\n",
      "\n",
      "    accuracy                           0.99       440\n",
      "   macro avg       0.99      0.99      0.99       440\n",
      "weighted avg       0.99      0.99      0.99       440\n",
      "\n"
     ]
    }
   ],
   "source": []
  },
  {
   "cell_type": "code",
   "execution_count": 36,
   "metadata": {},
   "outputs": [
    {
     "name": "stdout",
     "output_type": "stream",
     "text": [
      "RF's Accuracy is:  0.990909090909091\n",
      "              precision    recall  f1-score   support\n",
      "\n",
      "       apple       1.00      1.00      1.00        13\n",
      "      banana       1.00      1.00      1.00        17\n",
      "   blackgram       0.94      1.00      0.97        16\n",
      "    chickpea       1.00      1.00      1.00        21\n",
      "     coconut       1.00      1.00      1.00        21\n",
      "      coffee       1.00      1.00      1.00        22\n",
      "      cotton       1.00      1.00      1.00        20\n",
      "      grapes       1.00      1.00      1.00        18\n",
      "        jute       0.93      1.00      0.97        28\n",
      " kidneybeans       1.00      1.00      1.00        14\n",
      "      lentil       0.96      1.00      0.98        23\n",
      "       maize       1.00      1.00      1.00        21\n",
      "       mango       1.00      1.00      1.00        26\n",
      "   mothbeans       1.00      0.89      0.94        19\n",
      "    mungbean       1.00      1.00      1.00        24\n",
      "   muskmelon       1.00      1.00      1.00        23\n",
      "      orange       1.00      1.00      1.00        29\n",
      "      papaya       1.00      1.00      1.00        19\n",
      "  pigeonpeas       1.00      1.00      1.00        18\n",
      " pomegranate       1.00      1.00      1.00        17\n",
      "        rice       1.00      0.88      0.93        16\n",
      "  watermelon       1.00      1.00      1.00        15\n",
      "\n",
      "    accuracy                           0.99       440\n",
      "   macro avg       0.99      0.99      0.99       440\n",
      "weighted avg       0.99      0.99      0.99       440\n",
      "\n"
     ]
    }
   ],
   "source": [
    "from sklearn.ensemble import RandomForestClassifier\n",
    "\n",
    "RF = RandomForestClassifier(n_estimators=10, random_state=0)\n",
    "RF.fit(Xtrain,Ytrain)\n",
    "\n",
    "predicted_values = RF.predict(Xtest)\n",
    "\n",
    "x = metrics.accuracy_score(Ytest, predicted_values)\n",
    "acc.append(x)\n",
    "model.append('RF')\n",
    "print(\"RF's Accuracy is: \", x)\n",
    "\n",
    "print(classification_report(Ytest,predicted_values))"
   ]
  },
  {
   "cell_type": "code",
   "execution_count": 12,
   "metadata": {},
   "outputs": [
    {
     "name": "stdout",
     "output_type": "stream",
     "text": [
      "DecisionTrees's Accuracy is:  90.0\n",
      "              precision    recall  f1-score   support\n",
      "\n",
      "       apple       1.00      1.00      1.00        13\n",
      "      banana       1.00      1.00      1.00        17\n",
      "   blackgram       0.59      1.00      0.74        16\n",
      "    chickpea       1.00      1.00      1.00        21\n",
      "     coconut       0.91      1.00      0.95        21\n",
      "      coffee       1.00      1.00      1.00        22\n",
      "      cotton       1.00      1.00      1.00        20\n",
      "      grapes       1.00      1.00      1.00        18\n",
      "        jute       0.74      0.93      0.83        28\n",
      " kidneybeans       0.00      0.00      0.00        14\n",
      "      lentil       0.68      1.00      0.81        23\n",
      "       maize       1.00      1.00      1.00        21\n",
      "       mango       1.00      1.00      1.00        26\n",
      "   mothbeans       0.00      0.00      0.00        19\n",
      "    mungbean       1.00      1.00      1.00        24\n",
      "   muskmelon       1.00      1.00      1.00        23\n",
      "      orange       1.00      1.00      1.00        29\n",
      "      papaya       1.00      0.84      0.91        19\n",
      "  pigeonpeas       0.62      1.00      0.77        18\n",
      " pomegranate       1.00      1.00      1.00        17\n",
      "        rice       1.00      0.62      0.77        16\n",
      "  watermelon       1.00      1.00      1.00        15\n",
      "\n",
      "    accuracy                           0.90       440\n",
      "   macro avg       0.84      0.88      0.85       440\n",
      "weighted avg       0.86      0.90      0.87       440\n",
      "\n"
     ]
    }
   ],
   "source": [
    "from sklearn.tree import DecisionTreeClassifier\n",
    "\n",
    "DecisionTree = DecisionTreeClassifier(criterion=\"entropy\",random_state=2,max_depth=5)\n",
    "\n",
    "DecisionTree.fit(Xtrain,Ytrain)\n",
    "\n",
    "predicted_values = DecisionTree.predict(Xtest)\n",
    "x = metrics.accuracy_score(Ytest, predicted_values)\n",
    "acc.append(x)\n",
    "model.append('Decision Tree')\n",
    "print(\"DecisionTrees's Accuracy is: \", x*100)\n",
    "\n",
    "print(classification_report(Ytest,predicted_values))"
   ]
  },
  {
   "cell_type": "code",
   "execution_count": 13,
   "metadata": {},
   "outputs": [
    {
     "name": "stdout",
     "output_type": "stream",
     "text": [
      "SVM's Accuracy is:  0.9795454545454545\n",
      "              precision    recall  f1-score   support\n",
      "\n",
      "       apple       1.00      1.00      1.00        13\n",
      "      banana       1.00      1.00      1.00        17\n",
      "   blackgram       1.00      1.00      1.00        16\n",
      "    chickpea       1.00      1.00      1.00        21\n",
      "     coconut       1.00      1.00      1.00        21\n",
      "      coffee       1.00      0.95      0.98        22\n",
      "      cotton       0.95      1.00      0.98        20\n",
      "      grapes       1.00      1.00      1.00        18\n",
      "        jute       0.83      0.89      0.86        28\n",
      " kidneybeans       1.00      1.00      1.00        14\n",
      "      lentil       1.00      1.00      1.00        23\n",
      "       maize       1.00      0.95      0.98        21\n",
      "       mango       1.00      1.00      1.00        26\n",
      "   mothbeans       1.00      1.00      1.00        19\n",
      "    mungbean       1.00      1.00      1.00        24\n",
      "   muskmelon       1.00      1.00      1.00        23\n",
      "      orange       1.00      1.00      1.00        29\n",
      "      papaya       1.00      1.00      1.00        19\n",
      "  pigeonpeas       1.00      1.00      1.00        18\n",
      " pomegranate       1.00      1.00      1.00        17\n",
      "        rice       0.80      0.75      0.77        16\n",
      "  watermelon       1.00      1.00      1.00        15\n",
      "\n",
      "    accuracy                           0.98       440\n",
      "   macro avg       0.98      0.98      0.98       440\n",
      "weighted avg       0.98      0.98      0.98       440\n",
      "\n"
     ]
    }
   ],
   "source": []
  },
  {
   "cell_type": "code",
   "execution_count": 14,
   "metadata": {},
   "outputs": [
    {
     "data": {
      "text/plain": [
       "<Axes: title={'center': 'Accuracy Comparison'}, xlabel='Accuracy', ylabel='Algorithm'>"
      ]
     },
     "execution_count": 14,
     "metadata": {},
     "output_type": "execute_result"
    },
    {
     "data": {
      "image/png": "[encoded data removed]",
      "text/plain": [
       "<Figure size 1000x500 with 1 Axes>"
      ]
     },
     "metadata": {},
     "output_type": "display_data"
    }
   ],
   "source": [
    "plt.figure(figsize=[10,5],dpi = 100)\n",
    "plt.title('Accuracy Comparison')\n",
    "plt.xlabel('Accuracy')\n",
    "plt.ylabel('Algorithm')\n",
    "sns.barplot(x = acc,y = model,palette='dark')"
   ]
  },
  {
   "cell_type": "code",
   "execution_count": 15,
   "metadata": {},
   "outputs": [
    {
     "name": "stdout",
     "output_type": "stream",
     "text": [
      "Naive Bayes --> 0.990909090909091\n",
      "RF --> 0.9954545454545455\n",
      "Decision Tree --> 0.9\n",
      "SVM --> 0.9795454545454545\n"
     ]
    }
   ],
   "source": [
    "accuracy_models = dict(zip(model, acc))\n",
    "for k, v in accuracy_models.items():\n",
    "    print (k, '-->', v)"
   ]
  },
  {
   "cell_type": "code",
   "execution_count": 16,
   "metadata": {},
   "outputs": [
    {
     "data": {
      "text/plain": [
       "array(['coffee', 'pomegranate', 'pomegranate', 'cotton', 'mungbean',\n",
       "       'coffee', 'watermelon', 'coconut', 'pigeonpeas', 'mango',\n",
       "       'chickpea', 'jute', 'papaya', 'mothbeans', 'mango', 'maize',\n",
       "       'orange', 'blackgram', 'cotton', 'orange', 'banana', 'kidneybeans',\n",
       "       'muskmelon', 'banana', 'mango', 'kidneybeans', 'coconut',\n",
       "       'coconut', 'jute', 'mungbean', 'pomegranate', 'chickpea',\n",
       "       'mungbean', 'mungbean', 'mothbeans', 'coffee', 'cotton',\n",
       "       'muskmelon', 'blackgram', 'blackgram', 'papaya', 'pomegranate',\n",
       "       'pomegranate', 'jute', 'mothbeans', 'pomegranate', 'pomegranate',\n",
       "       'mungbean', 'coffee', 'chickpea', 'coffee', 'blackgram', 'cotton',\n",
       "       'pigeonpeas', 'cotton', 'lentil', 'mungbean', 'banana', 'lentil',\n",
       "       'orange', 'jute', 'jute', 'pigeonpeas', 'grapes', 'pigeonpeas',\n",
       "       'grapes', 'grapes', 'pomegranate', 'coffee', 'maize', 'apple',\n",
       "       'orange', 'chickpea', 'mango', 'banana', 'maize', 'banana', 'jute',\n",
       "       'pomegranate', 'mungbean', 'mango', 'banana', 'rice', 'mothbeans',\n",
       "       'banana', 'muskmelon', 'orange', 'maize', 'maize', 'coconut',\n",
       "       'rice', 'orange', 'mango', 'orange', 'orange', 'muskmelon',\n",
       "       'banana', 'maize', 'lentil', 'blackgram', 'muskmelon', 'apple',\n",
       "       'muskmelon', 'coffee', 'mungbean', 'jute', 'maize', 'pomegranate',\n",
       "       'lentil', 'orange', 'banana', 'chickpea', 'banana', 'coconut',\n",
       "       'apple', 'kidneybeans', 'chickpea', 'mothbeans', 'mango', 'banana',\n",
       "       'jute', 'rice', 'mungbean', 'watermelon', 'cotton', 'muskmelon',\n",
       "       'papaya', 'orange', 'orange', 'mungbean', 'coffee', 'muskmelon',\n",
       "       'jute', 'cotton', 'chickpea', 'coffee', 'coffee', 'lentil',\n",
       "       'maize', 'mothbeans', 'blackgram', 'coconut', 'apple', 'mango',\n",
       "       'mango', 'orange', 'rice', 'pigeonpeas', 'cotton', 'cotton',\n",
       "       'cotton', 'cotton', 'coconut', 'lentil', 'grapes', 'papaya',\n",
       "       'pigeonpeas', 'jute', 'orange', 'coffee', 'chickpea', 'mungbean',\n",
       "       'muskmelon', 'coconut', 'jute', 'rice', 'mungbean', 'mango',\n",
       "       'muskmelon', 'grapes', 'orange', 'pigeonpeas', 'chickpea',\n",
       "       'watermelon', 'kidneybeans', 'pigeonpeas', 'kidneybeans', 'papaya',\n",
       "       'grapes', 'mango', 'jute', 'mungbean', 'orange', 'watermelon',\n",
       "       'banana', 'grapes', 'jute', 'muskmelon', 'rice', 'papaya',\n",
       "       'grapes', 'pigeonpeas', 'papaya', 'lentil', 'mango', 'watermelon',\n",
       "       'apple', 'coconut', 'blackgram', 'mungbean', 'pomegranate', 'jute',\n",
       "       'apple', 'mothbeans', 'muskmelon', 'coconut', 'watermelon',\n",
       "       'maize', 'kidneybeans', 'watermelon', 'apple', 'rice', 'chickpea',\n",
       "       'watermelon', 'banana', 'mungbean', 'coconut', 'pomegranate',\n",
       "       'apple', 'maize', 'coffee', 'mungbean', 'mango', 'pigeonpeas',\n",
       "       'watermelon', 'orange', 'kidneybeans', 'blackgram', 'maize',\n",
       "       'lentil', 'watermelon', 'grapes', 'chickpea', 'papaya', 'jute',\n",
       "       'cotton', 'cotton', 'mothbeans', 'coffee', 'papaya', 'banana',\n",
       "       'mungbean', 'lentil', 'muskmelon', 'mango', 'pigeonpeas',\n",
       "       'muskmelon', 'maize', 'apple', 'lentil', 'lentil', 'rice',\n",
       "       'blackgram', 'blackgram', 'jute', 'lentil', 'muskmelon',\n",
       "       'pigeonpeas', 'cotton', 'blackgram', 'pomegranate', 'kidneybeans',\n",
       "       'chickpea', 'pomegranate', 'muskmelon', 'pigeonpeas', 'coffee',\n",
       "       'grapes', 'grapes', 'blackgram', 'banana', 'orange', 'cotton',\n",
       "       'coconut', 'mango', 'cotton', 'orange', 'watermelon', 'mothbeans',\n",
       "       'orange', 'banana', 'kidneybeans', 'coconut', 'maize', 'blackgram',\n",
       "       'mungbean', 'blackgram', 'pigeonpeas', 'mungbean', 'mango', 'jute',\n",
       "       'mothbeans', 'rice', 'pigeonpeas', 'muskmelon', 'coffee', 'mango',\n",
       "       'mothbeans', 'banana', 'grapes', 'pomegranate', 'orange',\n",
       "       'chickpea', 'chickpea', 'papaya', 'maize', 'orange', 'jute',\n",
       "       'lentil', 'muskmelon', 'muskmelon', 'lentil', 'papaya', 'orange',\n",
       "       'lentil', 'maize', 'papaya', 'orange', 'chickpea', 'pomegranate',\n",
       "       'grapes', 'pomegranate', 'cotton', 'cotton', 'papaya', 'mango',\n",
       "       'mothbeans', 'muskmelon', 'kidneybeans', 'coffee', 'papaya',\n",
       "       'grapes', 'jute', 'muskmelon', 'mungbean', 'jute', 'pigeonpeas',\n",
       "       'coffee', 'cotton', 'orange', 'grapes', 'papaya', 'jute', 'lentil',\n",
       "       'mango', 'apple', 'watermelon', 'blackgram', 'chickpea', 'lentil',\n",
       "       'orange', 'chickpea', 'jute', 'mungbean', 'chickpea', 'coconut',\n",
       "       'jute', 'grapes', 'mothbeans', 'mothbeans', 'orange', 'mungbean',\n",
       "       'jute', 'maize', 'mungbean', 'maize', 'watermelon', 'coconut',\n",
       "       'coconut', 'apple', 'grapes', 'mothbeans', 'coffee', 'orange',\n",
       "       'mango', 'maize', 'chickpea', 'coconut', 'jute', 'lentil', 'mango',\n",
       "       'cotton', 'muskmelon', 'chickpea', 'pigeonpeas', 'mango', 'coffee',\n",
       "       'kidneybeans', 'mango', 'blackgram', 'watermelon', 'rice',\n",
       "       'mothbeans', 'lentil', 'papaya', 'rice', 'chickpea', 'coconut',\n",
       "       'jute', 'mango', 'coffee', 'jute', 'coconut', 'coconut', 'lentil',\n",
       "       'mothbeans', 'lentil', 'lentil', 'mothbeans', 'coffee', 'papaya',\n",
       "       'rice', 'grapes', 'kidneybeans', 'pigeonpeas', 'maize', 'maize',\n",
       "       'jute', 'mungbean', 'papaya', 'jute', 'coffee', 'orange',\n",
       "       'watermelon', 'mothbeans', 'kidneybeans', 'coconut', 'maize',\n",
       "       'jute', 'papaya', 'jute', 'apple', 'mango', 'mango', 'apple',\n",
       "       'orange', 'muskmelon', 'lentil', 'kidneybeans', 'jute'],\n",
       "      dtype='<U11')"
      ]
     },
     "execution_count": 16,
     "metadata": {},
     "output_type": "execute_result"
    }
   ],
   "source": [
    "from joblib import Parallel, delayed\n",
    "import joblib\n",
    "  \n",
    "  \n",
    "# Save the model as a pickle in a file\n",
    "joblib.dump(NaiveBayes, 'Naive.pkl')\n",
    "  \n",
    "# Load the model from the file\n",
    "knn_from_joblib = joblib.load('Naive.pkl')\n",
    "  \n",
    "# Use the loaded model to make predictions\n",
    "knn_from_joblib.predict(Xtest)"
   ]
  },
  {
   "cell_type": "code",
   "execution_count": 44,
   "metadata": {},
   "outputs": [
    {
     "name": "stdout",
     "output_type": "stream",
     "text": [
      "['blackgram']\n"
     ]
    }
   ],
   "source": [
    "data = np.array([[57,60,17,26.23773129,67.88521396,7.504608385,73.58663968]])\n",
    "\n",
    "prediction = NaiveBayes.predict(data)\n",
    "print(prediction)"
   ]
  },
  {
   "cell_type": "code",
   "execution_count": 40,
   "metadata": {},
   "outputs": [
    {
     "name": "stdout",
     "output_type": "stream",
     "text": [
      "['jute']\n"
     ]
    }
   ],
   "source": [
    "naive_from_joblib = joblib.load('Naive.pkl')\n",
    "prediction = naive_from_joblib.predict(data)\n",
    "print(prediction)"
   ]
  },
  {
   "cell_type": "code",
   "execution_count": 41,
   "metadata": {},
   "outputs": [
    {
     "name": "stdout",
     "output_type": "stream",
     "text": [
      "['jute']\n"
     ]
    }
   ],
   "source": [
    "random_from_joblib = joblib.load('RF.pkl')\n",
    "prediction = random_from_joblib.predict(data)\n",
    "print(prediction)"
   ]
  },
  {
   "cell_type": "code",
   "execution_count": 45,
   "metadata": {},
   "outputs": [
    {
     "name": "stdout",
     "output_type": "stream",
     "text": [
      "['apple']\n"
     ]
    }
   ],
   "source": [
    "svm_from_joblib = joblib.load('SVM.pkl')\n",
    "prediction = svm_from_joblib.predict(data)\n",
    "print(prediction)"
   ]
  },
  {
   "cell_type": "code",
   "execution_count": 28,
   "metadata": {},
   "outputs": [
    {
     "name": "stdout",
     "output_type": "stream",
     "text": [
      "['jute']\n"
     ]
    }
   ],
   "source": [
    "decision_from_joblib = joblib.load('DecisionTree.pkl')\n",
    "prediction = decision_from_joblib.predict(data)\n",
    "print(prediction)"
   ]
  }
 ],
 "metadata": {
  "kernelspec": {
   "display_name": "Python 3",
   "language": "python",
   "name": "python3"
  },
  "language_info": {
   "codemirror_mode": {
    "name": "ipython",
    "version": 3
   },
   "file_extension": ".py",
   "mimetype": "text/x-python",
   "name": "python",
   "nbconvert_exporter": "python",
   "pygments_lexer": "ipython3",
   "version": "3.11.4"
  },
  "orig_nbformat": 4
 },
 "nbformat": 4,
 "nbformat_minor": 2
}
